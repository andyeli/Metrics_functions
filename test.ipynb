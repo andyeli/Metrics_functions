{
 "cells": [
  {
   "cell_type": "code",
   "execution_count": 2,
   "metadata": {},
   "outputs": [],
   "source": [
    "# Import libraries\n",
    "import numpy as np\n",
    "from sklearn.svm import SVC\n",
    "from scipy.io import loadmat\n",
    "import imbalance_metrics\n",
    "from sklearn.metrics import confusion_matrix\n",
    "from sklearn.model_selection import train_test_split"
   ]
  },
  {
   "cell_type": "markdown",
   "metadata": {},
   "source": [
    "We use a popular hyperspectral dataset for experimentation in this work, available at [Salinas-A scene](http://www.ehu.eus/ccwintco/index.php?title=Hyperspectral_Remote_Sensing_Scenes#Salinas-A_scene)."
   ]
  },
  {
   "cell_type": "code",
   "execution_count": 3,
   "metadata": {},
   "outputs": [],
   "source": [
    "# Load dataset\n",
    "salinas = loadmat('SalinasA_corrected.mat')\n",
    "dataset = salinas['salinasA_corrected']\n",
    "\n",
    "# Load labels (ground truth)\n",
    "gt = loadmat('SalinasA_gt.mat')\n",
    "ground_truth = gt['salinasA_gt']\n",
    "\n",
    "# Dataset shape \n",
    "height, width, bands = dataset.shape\n",
    "\n",
    "# Normalized dataset\n",
    "dataset = dataset/10000"
   ]
  },
  {
   "cell_type": "code",
   "execution_count": 4,
   "metadata": {},
   "outputs": [],
   "source": [
    "x = np.reshape(dataset, (height*width, bands))\n",
    "y = np.reshape(ground_truth, -1)\n",
    "\n",
    "result = np.where(y != 0)[0]\n",
    "x = x[result,:]\n",
    "y =y[result]\n",
    "\n",
    "# Split training and testing data\n",
    "x_train, x_test, y_train, y_test = train_test_split(x, y, test_size = 0.90)\n",
    "\n",
    "# Svm classifier\n",
    "svclassifier = SVC(kernel='linear')\n",
    "svclassifier.fit(x_train, y_train)\n",
    "y_pred = svclassifier.predict(x_test)"
   ]
  },
  {
   "cell_type": "code",
   "execution_count": 5,
   "metadata": {},
   "outputs": [
    {
     "name": "stdout",
     "output_type": "stream",
     "text": [
      "[[ 353    0    0    1    0    0]\n",
      " [   0 1042   26   26   86   22]\n",
      " [   0  172  342   30    0    0]\n",
      " [   0    3    0 1383    0    0]\n",
      " [   0    0    0    0  596    2]\n",
      " [   0    0    0    0   15  715]]\n",
      "----------------------------------- Score -----------------------------------\n",
      "Class        PRC          NPV          ACC          F1           MCCn         MKn         \n",
      "-----------------------------------------------------------------------------\n",
      "1            1.0000       0.9998       0.9998       0.9986       0.9992       0.9999      \n",
      "2            0.8562       0.9555       0.9304       0.8615       0.9075       0.9059      \n",
      "3            0.9293       0.9546       0.9526       0.7500       0.8709       0.9420      \n",
      "4            0.9604       0.9991       0.9875       0.9788       0.9852       0.9798      \n",
      "5            0.8551       0.9995       0.9786       0.9205       0.9559       0.9273      \n",
      "6            0.9675       0.9963       0.9919       0.9735       0.9843       0.9819      \n",
      "Average      0.9281       0.9841       0.9735       0.9138       0.9505       0.9561      \n",
      "---------------------- Bias ----------------------------------\n",
      "Class        PRC          NPV          ACC          F1           MCCn         MKn         \n",
      "--------------------------------------------------------------\n",
      "1            0.0000       0.0026       0.0012       0.0000       0.0006       0.0013      \n",
      "2            -0.0909      0.0782       0.0212       -0.0437      -0.0032      -0.0063     \n",
      "3            -0.0611      0.2266       0.1413       -0.0191      0.0365       0.0827      \n",
      "4            -0.0232      0.0013       -0.0031      -0.0119      -0.0055      -0.0109     \n",
      "5            -0.1214      0.0029       -0.0077      -0.0660      -0.0306      -0.0593     \n",
      "6            -0.0265      0.0166       0.0051       -0.0132      -0.0025      -0.0050     \n",
      "Average      -0.0538      0.0547       0.0263       -0.0257      -0.0008      0.0004      \n",
      "------------------------- Coefficients -------------------------------\n",
      "Class        LambdaPP     LambdaNN     Delta       \n",
      "----------------------------------------------------------------------\n",
      "1            0.9972       1.0000       -0.8529      \n",
      "2            0.8669       0.9516       -0.5006      \n",
      "3            0.6287       0.9939       -0.7740      \n",
      "4            0.9978       0.9834       -0.4242      \n",
      "5            0.9967       0.9760       -0.7516      \n",
      "6            0.9795       0.9941       -0.6967      \n",
      "----- Multiclass metrics -----\n",
      "OA       0.9204  \n",
      "BA       0.9111  \n",
      "BAW      0.9096  \n",
      "AA       0.9735  \n",
      "K        0.9000  \n",
      "MCC      0.9011  \n"
     ]
    }
   ],
   "source": [
    "# Confusion matrix\n",
    "Cm = confusion_matrix(y_test, y_pred)\n",
    "print(Cm)\n",
    "\n",
    "# Report funcition imbalance metrics\n",
    "imbalance_metrics.report(y_test,y_pred)"
   ]
  }
 ],
 "metadata": {
  "interpreter": {
   "hash": "c7354d3a3490928afbe5512a1d9cef22f483a227c3f072cf4de86f6ce2272d14"
  },
  "kernelspec": {
   "display_name": "Python 3.8.0 64-bit ('tf-gpu': conda)",
   "language": "python",
   "name": "python3"
  },
  "language_info": {
   "codemirror_mode": {
    "name": "ipython",
    "version": 3
   },
   "file_extension": ".py",
   "mimetype": "text/x-python",
   "name": "python",
   "nbconvert_exporter": "python",
   "pygments_lexer": "ipython3",
   "version": "3.8.0"
  },
  "orig_nbformat": 4
 },
 "nbformat": 4,
 "nbformat_minor": 2
}
