{
 "cells": [
  {
   "cell_type": "code",
   "execution_count": 1,
   "metadata": {},
   "outputs": [],
   "source": [
    "import imbalance_metrics as im"
   ]
  },
  {
   "cell_type": "code",
   "execution_count": 2,
   "metadata": {},
   "outputs": [],
   "source": [
    "y_true = [0,1,0,0,1,1,1]\n",
    "y_pred = [0,1,1,0,1,1,1]"
   ]
  },
  {
   "cell_type": "code",
   "execution_count": 3,
   "metadata": {},
   "outputs": [
    {
     "name": "stdout",
     "output_type": "stream",
     "text": [
      "----------------------------------- Score -----------------------------------\n",
      "Class        PRC          NPV          ACC          F1           MCCn         MKn         \n",
      "-----------------------------------------------------------------------------\n",
      "1            1.0000       0.8000       0.8571       0.8000       0.8651       0.9000      \n",
      "2            0.8000       1.0000       0.8571       0.8889       0.8651       0.9000      \n",
      "Average      0.9000       0.9000       0.8571       0.8444       0.8651       0.9000      \n",
      "---------------------- Bias ----------------------------------\n",
      "Class        PRC          NPV          ACC          F1           MCCn         MKn         \n",
      "--------------------------------------------------------------\n",
      "1            0.0000       0.0500       0.0238       0.0000       0.0116       0.0250      \n",
      "2            0.0500       0.0000       0.0238       0.0317       0.0116       0.0250      \n",
      "Average      0.0250       0.0250       0.0238       0.0159       0.0116       0.0250      \n",
      "------------------------- Coefficients -------------------------------\n",
      "Class        LambdaPP     LambdaNN     Delta       \n",
      "----------------------------------------------------------------------\n",
      "1            0.6667       1.0000       -0.1429      \n",
      "2            1.0000       0.6667       0.1429       \n",
      "----- Multiclass metrics -----\n",
      "OA       0.8571  \n",
      "BA       0.8333  \n",
      "BAW      0.8095  \n",
      "AA       0.8571  \n",
      "K        0.6957  \n",
      "MCC      0.7303  \n"
     ]
    }
   ],
   "source": [
    "results = im.report(y_true,y_pred)"
   ]
  },
  {
   "cell_type": "code",
   "execution_count": null,
   "metadata": {},
   "outputs": [],
   "source": []
  }
 ],
 "metadata": {
  "interpreter": {
   "hash": "c7354d3a3490928afbe5512a1d9cef22f483a227c3f072cf4de86f6ce2272d14"
  },
  "kernelspec": {
   "display_name": "Python 3.8.0 64-bit ('tf-gpu': conda)",
   "language": "python",
   "name": "python3"
  },
  "language_info": {
   "codemirror_mode": {
    "name": "ipython",
    "version": 3
   },
   "file_extension": ".py",
   "mimetype": "text/x-python",
   "name": "python",
   "nbconvert_exporter": "python",
   "pygments_lexer": "ipython3",
   "version": "3.8.0"
  },
  "orig_nbformat": 4
 },
 "nbformat": 4,
 "nbformat_minor": 2
}
